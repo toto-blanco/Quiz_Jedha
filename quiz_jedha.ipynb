{
 "cells": [
  {
   "cell_type": "code",
   "execution_count": null,
   "id": "bed31452",
   "metadata": {},
   "outputs": [],
   "source": [
    "# ============================================\n",
    "# Fichier de stockage des questions et réponses\n",
    "# ============================================\n",
    "\n",
    "QUESTIONS_REPONSES = [\n",
    "    {\n",
    "        \"question\": \"Quel est le Prénom et Nom de l'auteur du manga One Piece? \",\n",
    "        \"reponse\": \"Eichiro Oda\"\n",
    "    },\n",
    "    {\n",
    "        \"question\": \"Quand l'Olympique Lyonnais a-t-il été créé ? \",\n",
    "        \"reponse\": \"1950\"\n",
    "    },\n",
    "    {\n",
    "        \"question\": \"Qui a créé Linux? \",\n",
    "        \"reponse\": \"Linus Torvalds\"\n",
    "    }\n",
    "]\n"
   ]
  },
  {
   "cell_type": "code",
   "execution_count": null,
   "id": "b843d845",
   "metadata": {},
   "outputs": [],
   "source": [
    "# ============================================\n",
    "# Fichier principal du quiz\n",
    "# ============================================\n",
    "\n",
    "from questions_data import QUESTIONS_REPONSES\n",
    "\n",
    "\n",
    "def nb_tent_rest(question, reponse_juste, tentative):\n",
    "    \n",
    "    while tentative > 0:\n",
    "        reponse_joueur = input(question)\n",
    "        if reponse_joueur == reponse_juste:\n",
    "            return tentative\n",
    "        else:\n",
    "            tentative -= 1\n",
    "            print(f\"Dang, mauvaise réponse 😓... Tu as encore {tentative} chances\")\n",
    "    \n",
    "    \n",
    "    print(\"Oh no! Game Over 💥\")\n",
    "    return 0\n",
    "\n",
    "\n",
    "def run_quizz():\n",
    "    \n",
    "    tentative = 3\n",
    "    print(\"Bienvenue dans le Quizz Jedha!\")\n",
    "    \n",
    "   \n",
    "    for q in QUESTIONS_REPONSES:\n",
    "        tentative = nb_tent_rest(q[\"question\"], q[\"reponse\"], tentative)\n",
    "        if tentative == 0:\n",
    "            return\n",
    "    \n",
    "    \n",
    "    print(\"🥳 Félicitation, tu as remporté le quiz 🥳\")\n",
    "\n"
   ]
  },
  {
   "cell_type": "code",
   "execution_count": null,
   "id": "9b07c031",
   "metadata": {},
   "outputs": [],
   "source": [
    "run_quizz()"
   ]
  }
 ],
 "metadata": {
  "kernelspec": {
   "display_name": "base",
   "language": "python",
   "name": "python3"
  },
  "language_info": {
   "codemirror_mode": {
    "name": "ipython",
    "version": 3
   },
   "file_extension": ".py",
   "mimetype": "text/x-python",
   "name": "python",
   "nbconvert_exporter": "python",
   "pygments_lexer": "ipython3",
   "version": "3.13.5"
  }
 },
 "nbformat": 4,
 "nbformat_minor": 5
}
