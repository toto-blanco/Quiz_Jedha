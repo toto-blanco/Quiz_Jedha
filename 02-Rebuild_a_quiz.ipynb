{
 "cells": [
  {
   "cell_type": "markdown",
   "metadata": {},
   "source": [
    "# Build a quiz - Part 2"
   ]
  },
  {
   "cell_type": "markdown",
   "metadata": {},
   "source": [
    "Below is the code we wrote yesterday, that asks three questions to the user and allows up to 3 wrong answers :"
   ]
  },
  {
   "cell_type": "code",
   "execution_count": null,
   "metadata": {},
   "outputs": [],
   "source": [
    "nb_of_chances = 3\n",
    "\n",
    "print(\"here is our beautiful quiz!\")\n",
    "\n",
    "if nb_of_chances > 0:\n",
    "    question1= input(\"How many times France won the Soccer World Cup?\")\n",
    "    while question1 != \"2\":\n",
    "        nb_of_chances -= 1\n",
    "        print(\"Dang, wrong answer 😓... You still have {} chances left\".format(nb_of_chances))\n",
    "        if nb_of_chances == 0:\n",
    "            print(\"Oh no! It's game over 💥\")\n",
    "            break\n",
    "        question1 = input(\"How many times France won the Soccer World Cup?\")\n",
    "\n",
    "if nb_of_chances > 0:\n",
    "    question2 = input(\"When was Apple founded?\")\n",
    "    while question2 != \"1976\":\n",
    "        nb_of_chances -=1\n",
    "        print(\"Dang, wrong answer 😓... You still have {} chances left\".format(nb_of_chances))\n",
    "        if nb_of_chances == 0:\n",
    "            print(\"Oh no! It's game over 💥\")\n",
    "            break\n",
    "        question2 = input(\"When was Apple founded?\")\n",
    "\n",
    "\n",
    "if nb_of_chances > 0:\n",
    "    question3 = input(\"Who founded SpaceX?\")\n",
    "    question3 = question3.lower()\n",
    "    while question3 != \"elon musk\":\n",
    "        nb_of_chances -=1\n",
    "        print(\"Dang, wrong answer 😓... You still have {} chances left\".format(nb_of_chances))\n",
    "        if nb_of_chances == 0:\n",
    "            print(\"Oh no! It's game over 💥\")\n",
    "            break\n",
    "        question3 = input(\"Who founded SpaceX?\")\n",
    "        question3 = question3.lower()\n",
    "\n",
    "if nb_of_chances > 0:\n",
    "    print(\"🥳 Congratulations, you've won the quiz 🥳\")\n"
   ]
  },
  {
   "attachments": {},
   "cell_type": "markdown",
   "metadata": {},
   "source": [
    "Let's refactor our quiz now that we know how to be dry.\n",
    "\n",
    "## SPECIFICATIONS (SPECS)\n",
    "\n",
    "* Your code should be DRY \n",
    "* You should use functions "
   ]
  },
  {
   "cell_type": "code",
   "execution_count": null,
   "metadata": {},
   "outputs": [],
   "source": [
    "def ask_question (question,reponse_juste,tentative):\n",
    "    while tentative>0:\n",
    "        reponse_donnee = input(question)\n",
    "        if reponse_donnee == reponse_juste:\n",
    "            return tentative\n",
    "        else:\n",
    "            tentative -= 1\n",
    "            print(f\"Dang, mauvaise réponse 😓... Tu as encore {tentative} chances\")\n",
    "            if tentative == 0:\n",
    "                print(\"Oh no! Game Over 💥\")\n",
    "                break\n",
    "\n",
    "def run_quizz():\n",
    "    tentative=3\n",
    "    print(\"here is our beautiful quiz!\")\n",
    "\n",
    "    tentative=ask_question(\"Quel est le Prénom et Nom de l'auteur du mange One Piece?\",\"Eichiro Oda\",tentative)\n",
    "    if tentative ==0:\n",
    "        return print(\"Oh no! Game Over 💥\")\n",
    "\n",
    "    tentative=ask_question(\"Quand l'Olympique Lyonnais a t'il été créé ?\",\"1950\",tentative)\n",
    "    if tentative ==0:\n",
    "        return print(\"Oh no! Game Over 💥\")\n",
    "\n",
    "    tentative=ask_question(\"Qui a créé Linux?\",\"Linus Torvalds\",tentative)\n",
    "    \n",
    "    if tentative > 0:\n",
    "        print(\"🥳 Félicitation, tu as remporté le quiz 🥳\")\n",
    "\n",
    "\n",
    "        "
   ]
  },
  {
   "cell_type": "code",
   "execution_count": 2,
   "metadata": {},
   "outputs": [
    {
     "name": "stdout",
     "output_type": "stream",
     "text": [
      "here is our beautiful quiz!\n",
      "🥳 Félicitation, tu as remporté le quiz 🥳\n"
     ]
    }
   ],
   "source": [
    "run_quizz()"
   ]
  }
 ],
 "metadata": {
  "kernelspec": {
   "display_name": "base",
   "language": "python",
   "name": "python3"
  },
  "language_info": {
   "codemirror_mode": {
    "name": "ipython",
    "version": 3
   },
   "file_extension": ".py",
   "mimetype": "text/x-python",
   "name": "python",
   "nbconvert_exporter": "python",
   "pygments_lexer": "ipython3",
   "version": "3.13.5"
  },
  "orig_nbformat": 2
 },
 "nbformat": 4,
 "nbformat_minor": 2
}
